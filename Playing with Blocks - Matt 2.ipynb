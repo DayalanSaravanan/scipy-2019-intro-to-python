{
 "cells": [
  {
   "cell_type": "markdown",
   "metadata": {},
   "source": [
    "After working through the exercises in this notebook you should be familiar with Python variables, indexing, [for loops][for], and [if statements][if].\n",
    "\n",
    "[for]: http://docs.python.org/2/reference/compound_stmts.html#the-for-statement\n",
    "[if]: http://docs.python.org/2/reference/compound_stmts.html#the-if-statement"
   ]
  },
  {
   "cell_type": "code",
   "execution_count": 1,
   "metadata": {},
   "outputs": [],
   "source": [
    "from ipythonblocks import BlockGrid, colors, show_color, show_color_triple"
   ]
  },
  {
   "cell_type": "code",
   "execution_count": 2,
   "metadata": {},
   "outputs": [],
   "source": [
    "show_color?"
   ]
  },
  {
   "cell_type": "code",
   "execution_count": 3,
   "metadata": {},
   "outputs": [
    {
     "data": {
      "text/html": [
       "<div style=\"height: 60px; min-width: 200px; background-color: rgb(12, 123, 234)\"></div>"
      ],
      "text/plain": [
       "<IPython.core.display.HTML object>"
      ]
     },
     "metadata": {},
     "output_type": "display_data"
    }
   ],
   "source": [
    "show_color(12, 123, 234)"
   ]
  },
  {
   "cell_type": "code",
   "execution_count": 4,
   "metadata": {},
   "outputs": [
    {
     "data": {
      "text/plain": [
       "Color(red=0, green=128, blue=128)"
      ]
     },
     "execution_count": 4,
     "metadata": {},
     "output_type": "execute_result"
    }
   ],
   "source": [
    "colors.Teal"
   ]
  },
  {
   "cell_type": "code",
   "execution_count": 5,
   "metadata": {},
   "outputs": [
    {
     "data": {
      "text/plain": [
       "<function ipythonblocks.show_color(red, green, blue)>"
      ]
     },
     "execution_count": 5,
     "metadata": {},
     "output_type": "execute_result"
    }
   ],
   "source": [
    "show_color"
   ]
  },
  {
   "cell_type": "code",
   "execution_count": 6,
   "metadata": {},
   "outputs": [
    {
     "data": {
      "text/html": [
       "<div style=\"height: 60px; min-width: 200px; background-color: rgb(0, 128, 128)\"></div>"
      ],
      "text/plain": [
       "<IPython.core.display.HTML object>"
      ]
     },
     "metadata": {},
     "output_type": "display_data"
    }
   ],
   "source": [
    "show_color_triple(colors.Teal)"
   ]
  },
  {
   "cell_type": "code",
   "execution_count": 7,
   "metadata": {},
   "outputs": [
    {
     "data": {
      "text/html": [
       "<style type=\"text/css\">table.blockgrid {border: none;} .blockgrid tr {border: none;} .blockgrid td {padding: 0px;} #blocks1ed81c16-0bbd-4708-afa6-a88a76252599 td {border: 1px solid white;}</style><table id=\"blocks1ed81c16-0bbd-4708-afa6-a88a76252599\" class=\"blockgrid\"><tbody><tr><td title=\"Index: [0, 0]&#10;Color: (0, 0, 0)\" style=\"width: 20px; height: 20px;background-color: rgb(0, 0, 0);\"></td><td title=\"Index: [0, 1]&#10;Color: (0, 0, 0)\" style=\"width: 20px; height: 20px;background-color: rgb(0, 0, 0);\"></td><td title=\"Index: [0, 2]&#10;Color: (0, 0, 0)\" style=\"width: 20px; height: 20px;background-color: rgb(0, 0, 0);\"></td><td title=\"Index: [0, 3]&#10;Color: (0, 0, 0)\" style=\"width: 20px; height: 20px;background-color: rgb(0, 0, 0);\"></td><td title=\"Index: [0, 4]&#10;Color: (0, 0, 0)\" style=\"width: 20px; height: 20px;background-color: rgb(0, 0, 0);\"></td></tr><tr><td title=\"Index: [1, 0]&#10;Color: (0, 0, 0)\" style=\"width: 20px; height: 20px;background-color: rgb(0, 0, 0);\"></td><td title=\"Index: [1, 1]&#10;Color: (0, 0, 0)\" style=\"width: 20px; height: 20px;background-color: rgb(0, 0, 0);\"></td><td title=\"Index: [1, 2]&#10;Color: (0, 0, 0)\" style=\"width: 20px; height: 20px;background-color: rgb(0, 0, 0);\"></td><td title=\"Index: [1, 3]&#10;Color: (0, 0, 0)\" style=\"width: 20px; height: 20px;background-color: rgb(0, 0, 0);\"></td><td title=\"Index: [1, 4]&#10;Color: (0, 0, 0)\" style=\"width: 20px; height: 20px;background-color: rgb(0, 0, 0);\"></td></tr><tr><td title=\"Index: [2, 0]&#10;Color: (0, 0, 0)\" style=\"width: 20px; height: 20px;background-color: rgb(0, 0, 0);\"></td><td title=\"Index: [2, 1]&#10;Color: (0, 0, 0)\" style=\"width: 20px; height: 20px;background-color: rgb(0, 0, 0);\"></td><td title=\"Index: [2, 2]&#10;Color: (0, 0, 0)\" style=\"width: 20px; height: 20px;background-color: rgb(0, 0, 0);\"></td><td title=\"Index: [2, 3]&#10;Color: (0, 0, 0)\" style=\"width: 20px; height: 20px;background-color: rgb(0, 0, 0);\"></td><td title=\"Index: [2, 4]&#10;Color: (0, 0, 0)\" style=\"width: 20px; height: 20px;background-color: rgb(0, 0, 0);\"></td></tr><tr><td title=\"Index: [3, 0]&#10;Color: (0, 0, 0)\" style=\"width: 20px; height: 20px;background-color: rgb(0, 0, 0);\"></td><td title=\"Index: [3, 1]&#10;Color: (0, 0, 0)\" style=\"width: 20px; height: 20px;background-color: rgb(0, 0, 0);\"></td><td title=\"Index: [3, 2]&#10;Color: (0, 0, 0)\" style=\"width: 20px; height: 20px;background-color: rgb(0, 0, 0);\"></td><td title=\"Index: [3, 3]&#10;Color: (0, 0, 0)\" style=\"width: 20px; height: 20px;background-color: rgb(0, 0, 0);\"></td><td title=\"Index: [3, 4]&#10;Color: (0, 0, 0)\" style=\"width: 20px; height: 20px;background-color: rgb(0, 0, 0);\"></td></tr><tr><td title=\"Index: [4, 0]&#10;Color: (0, 0, 0)\" style=\"width: 20px; height: 20px;background-color: rgb(0, 0, 0);\"></td><td title=\"Index: [4, 1]&#10;Color: (0, 0, 0)\" style=\"width: 20px; height: 20px;background-color: rgb(0, 0, 0);\"></td><td title=\"Index: [4, 2]&#10;Color: (0, 0, 0)\" style=\"width: 20px; height: 20px;background-color: rgb(0, 0, 0);\"></td><td title=\"Index: [4, 3]&#10;Color: (0, 0, 0)\" style=\"width: 20px; height: 20px;background-color: rgb(0, 0, 0);\"></td><td title=\"Index: [4, 4]&#10;Color: (0, 0, 0)\" style=\"width: 20px; height: 20px;background-color: rgb(0, 0, 0);\"></td></tr></tbody></table>"
      ],
      "text/plain": [
       "<ipythonblocks.BlockGrid at 0x10a18f7f0>"
      ]
     },
     "execution_count": 7,
     "metadata": {},
     "output_type": "execute_result"
    }
   ],
   "source": [
    "BlockGrid(5, 5)"
   ]
  },
  {
   "cell_type": "code",
   "execution_count": 10,
   "metadata": {},
   "outputs": [],
   "source": [
    "grid = BlockGrid(width=5, height=5, fill=colors.DarkTurquoise)"
   ]
  },
  {
   "cell_type": "code",
   "execution_count": 11,
   "metadata": {},
   "outputs": [
    {
     "data": {
      "text/html": [
       "<style type=\"text/css\">table.blockgrid {border: none;} .blockgrid tr {border: none;} .blockgrid td {padding: 0px;} #blocks16f0719f-7084-4f91-ab98-ab74a3b85a2e td {border: 1px solid white;}</style><table id=\"blocks16f0719f-7084-4f91-ab98-ab74a3b85a2e\" class=\"blockgrid\"><tbody><tr><td title=\"Index: [0, 0]&#10;Color: (0, 206, 209)\" style=\"width: 20px; height: 20px;background-color: rgb(0, 206, 209);\"></td><td title=\"Index: [0, 1]&#10;Color: (0, 206, 209)\" style=\"width: 20px; height: 20px;background-color: rgb(0, 206, 209);\"></td><td title=\"Index: [0, 2]&#10;Color: (0, 206, 209)\" style=\"width: 20px; height: 20px;background-color: rgb(0, 206, 209);\"></td><td title=\"Index: [0, 3]&#10;Color: (0, 206, 209)\" style=\"width: 20px; height: 20px;background-color: rgb(0, 206, 209);\"></td><td title=\"Index: [0, 4]&#10;Color: (0, 206, 209)\" style=\"width: 20px; height: 20px;background-color: rgb(0, 206, 209);\"></td></tr><tr><td title=\"Index: [1, 0]&#10;Color: (0, 206, 209)\" style=\"width: 20px; height: 20px;background-color: rgb(0, 206, 209);\"></td><td title=\"Index: [1, 1]&#10;Color: (0, 206, 209)\" style=\"width: 20px; height: 20px;background-color: rgb(0, 206, 209);\"></td><td title=\"Index: [1, 2]&#10;Color: (0, 206, 209)\" style=\"width: 20px; height: 20px;background-color: rgb(0, 206, 209);\"></td><td title=\"Index: [1, 3]&#10;Color: (0, 206, 209)\" style=\"width: 20px; height: 20px;background-color: rgb(0, 206, 209);\"></td><td title=\"Index: [1, 4]&#10;Color: (0, 206, 209)\" style=\"width: 20px; height: 20px;background-color: rgb(0, 206, 209);\"></td></tr><tr><td title=\"Index: [2, 0]&#10;Color: (0, 206, 209)\" style=\"width: 20px; height: 20px;background-color: rgb(0, 206, 209);\"></td><td title=\"Index: [2, 1]&#10;Color: (0, 206, 209)\" style=\"width: 20px; height: 20px;background-color: rgb(0, 206, 209);\"></td><td title=\"Index: [2, 2]&#10;Color: (0, 206, 209)\" style=\"width: 20px; height: 20px;background-color: rgb(0, 206, 209);\"></td><td title=\"Index: [2, 3]&#10;Color: (0, 206, 209)\" style=\"width: 20px; height: 20px;background-color: rgb(0, 206, 209);\"></td><td title=\"Index: [2, 4]&#10;Color: (0, 206, 209)\" style=\"width: 20px; height: 20px;background-color: rgb(0, 206, 209);\"></td></tr><tr><td title=\"Index: [3, 0]&#10;Color: (0, 206, 209)\" style=\"width: 20px; height: 20px;background-color: rgb(0, 206, 209);\"></td><td title=\"Index: [3, 1]&#10;Color: (0, 206, 209)\" style=\"width: 20px; height: 20px;background-color: rgb(0, 206, 209);\"></td><td title=\"Index: [3, 2]&#10;Color: (0, 206, 209)\" style=\"width: 20px; height: 20px;background-color: rgb(0, 206, 209);\"></td><td title=\"Index: [3, 3]&#10;Color: (0, 206, 209)\" style=\"width: 20px; height: 20px;background-color: rgb(0, 206, 209);\"></td><td title=\"Index: [3, 4]&#10;Color: (0, 206, 209)\" style=\"width: 20px; height: 20px;background-color: rgb(0, 206, 209);\"></td></tr><tr><td title=\"Index: [4, 0]&#10;Color: (0, 206, 209)\" style=\"width: 20px; height: 20px;background-color: rgb(0, 206, 209);\"></td><td title=\"Index: [4, 1]&#10;Color: (0, 206, 209)\" style=\"width: 20px; height: 20px;background-color: rgb(0, 206, 209);\"></td><td title=\"Index: [4, 2]&#10;Color: (0, 206, 209)\" style=\"width: 20px; height: 20px;background-color: rgb(0, 206, 209);\"></td><td title=\"Index: [4, 3]&#10;Color: (0, 206, 209)\" style=\"width: 20px; height: 20px;background-color: rgb(0, 206, 209);\"></td><td title=\"Index: [4, 4]&#10;Color: (0, 206, 209)\" style=\"width: 20px; height: 20px;background-color: rgb(0, 206, 209);\"></td></tr></tbody></table>"
      ],
      "text/plain": [
       "<ipythonblocks.BlockGrid at 0x10a9652b0>"
      ]
     },
     "execution_count": 11,
     "metadata": {},
     "output_type": "execute_result"
    }
   ],
   "source": [
    "grid"
   ]
  },
  {
   "cell_type": "code",
   "execution_count": 12,
   "metadata": {},
   "outputs": [],
   "source": [
    "block = grid[0, 0]\n",
    "block.rgb = colors.Black"
   ]
  },
  {
   "cell_type": "code",
   "execution_count": 13,
   "metadata": {},
   "outputs": [
    {
     "data": {
      "text/html": [
       "<style type=\"text/css\">table.blockgrid {border: none;} .blockgrid tr {border: none;} .blockgrid td {padding: 0px;} #blocks5569ebfc-083e-44f3-9843-db4dc158f43b td {border: 1px solid white;}</style><table id=\"blocks5569ebfc-083e-44f3-9843-db4dc158f43b\" class=\"blockgrid\"><tbody><tr><td title=\"Index: [0, 0]&#10;Color: (0, 0, 0)\" style=\"width: 20px; height: 20px;background-color: rgb(0, 0, 0);\"></td><td title=\"Index: [0, 1]&#10;Color: (0, 206, 209)\" style=\"width: 20px; height: 20px;background-color: rgb(0, 206, 209);\"></td><td title=\"Index: [0, 2]&#10;Color: (0, 206, 209)\" style=\"width: 20px; height: 20px;background-color: rgb(0, 206, 209);\"></td><td title=\"Index: [0, 3]&#10;Color: (0, 206, 209)\" style=\"width: 20px; height: 20px;background-color: rgb(0, 206, 209);\"></td><td title=\"Index: [0, 4]&#10;Color: (0, 206, 209)\" style=\"width: 20px; height: 20px;background-color: rgb(0, 206, 209);\"></td></tr><tr><td title=\"Index: [1, 0]&#10;Color: (0, 206, 209)\" style=\"width: 20px; height: 20px;background-color: rgb(0, 206, 209);\"></td><td title=\"Index: [1, 1]&#10;Color: (0, 206, 209)\" style=\"width: 20px; height: 20px;background-color: rgb(0, 206, 209);\"></td><td title=\"Index: [1, 2]&#10;Color: (0, 206, 209)\" style=\"width: 20px; height: 20px;background-color: rgb(0, 206, 209);\"></td><td title=\"Index: [1, 3]&#10;Color: (0, 206, 209)\" style=\"width: 20px; height: 20px;background-color: rgb(0, 206, 209);\"></td><td title=\"Index: [1, 4]&#10;Color: (0, 206, 209)\" style=\"width: 20px; height: 20px;background-color: rgb(0, 206, 209);\"></td></tr><tr><td title=\"Index: [2, 0]&#10;Color: (0, 206, 209)\" style=\"width: 20px; height: 20px;background-color: rgb(0, 206, 209);\"></td><td title=\"Index: [2, 1]&#10;Color: (0, 206, 209)\" style=\"width: 20px; height: 20px;background-color: rgb(0, 206, 209);\"></td><td title=\"Index: [2, 2]&#10;Color: (0, 206, 209)\" style=\"width: 20px; height: 20px;background-color: rgb(0, 206, 209);\"></td><td title=\"Index: [2, 3]&#10;Color: (0, 206, 209)\" style=\"width: 20px; height: 20px;background-color: rgb(0, 206, 209);\"></td><td title=\"Index: [2, 4]&#10;Color: (0, 206, 209)\" style=\"width: 20px; height: 20px;background-color: rgb(0, 206, 209);\"></td></tr><tr><td title=\"Index: [3, 0]&#10;Color: (0, 206, 209)\" style=\"width: 20px; height: 20px;background-color: rgb(0, 206, 209);\"></td><td title=\"Index: [3, 1]&#10;Color: (0, 206, 209)\" style=\"width: 20px; height: 20px;background-color: rgb(0, 206, 209);\"></td><td title=\"Index: [3, 2]&#10;Color: (0, 206, 209)\" style=\"width: 20px; height: 20px;background-color: rgb(0, 206, 209);\"></td><td title=\"Index: [3, 3]&#10;Color: (0, 206, 209)\" style=\"width: 20px; height: 20px;background-color: rgb(0, 206, 209);\"></td><td title=\"Index: [3, 4]&#10;Color: (0, 206, 209)\" style=\"width: 20px; height: 20px;background-color: rgb(0, 206, 209);\"></td></tr><tr><td title=\"Index: [4, 0]&#10;Color: (0, 206, 209)\" style=\"width: 20px; height: 20px;background-color: rgb(0, 206, 209);\"></td><td title=\"Index: [4, 1]&#10;Color: (0, 206, 209)\" style=\"width: 20px; height: 20px;background-color: rgb(0, 206, 209);\"></td><td title=\"Index: [4, 2]&#10;Color: (0, 206, 209)\" style=\"width: 20px; height: 20px;background-color: rgb(0, 206, 209);\"></td><td title=\"Index: [4, 3]&#10;Color: (0, 206, 209)\" style=\"width: 20px; height: 20px;background-color: rgb(0, 206, 209);\"></td><td title=\"Index: [4, 4]&#10;Color: (0, 206, 209)\" style=\"width: 20px; height: 20px;background-color: rgb(0, 206, 209);\"></td></tr></tbody></table>"
      ],
      "text/plain": [
       "<ipythonblocks.BlockGrid at 0x10a9652b0>"
      ]
     },
     "execution_count": 13,
     "metadata": {},
     "output_type": "execute_result"
    }
   ],
   "source": [
    "grid"
   ]
  },
  {
   "cell_type": "code",
   "execution_count": null,
   "metadata": {},
   "outputs": [],
   "source": []
  }
 ],
 "metadata": {
  "kernelspec": {
   "display_name": "Python 3",
   "language": "python",
   "name": "python3"
  },
  "language_info": {
   "codemirror_mode": {
    "name": "ipython",
    "version": 3
   },
   "file_extension": ".py",
   "mimetype": "text/x-python",
   "name": "python",
   "nbconvert_exporter": "python",
   "pygments_lexer": "ipython3",
   "version": "3.7.3"
  }
 },
 "nbformat": 4,
 "nbformat_minor": 1
}
